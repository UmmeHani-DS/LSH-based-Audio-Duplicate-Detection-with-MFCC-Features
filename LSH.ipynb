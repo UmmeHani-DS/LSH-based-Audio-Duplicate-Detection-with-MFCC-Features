{
 "cells": [
  {
   "cell_type": "code",
   "execution_count": 408,
   "id": "4e38b109",
   "metadata": {},
   "outputs": [],
   "source": [
    "import librosa\n",
    "import soundfile as sf\n",
    "import numpy as np\n",
    "import pickle\n",
    "import statistics\n",
    "import pandas as pd\n",
    "import os\n",
    "import glob\n",
    "import scipy\n",
    "from scipy import io\n",
    "import pickle\n",
    "from datasketch import MinHash, MinHashLSH\n",
    "from tqdm import tqdm\n",
    "import warnings\n",
    "warnings.simplefilter(\"ignore\", UserWarning)\n",
    "warnings.filterwarnings('ignore')\n",
    "import statistics\n",
    "from statistics import mean\n",
    "from collections import defaultdict"
   ]
  },
  {
   "cell_type": "markdown",
   "id": "abc1e6d8",
   "metadata": {},
   "source": [
    "# Bulk Work"
   ]
  },
  {
   "cell_type": "code",
   "execution_count": 171,
   "id": "00665120",
   "metadata": {},
   "outputs": [],
   "source": [
    "newFile=open(r\"C:\\Users\\hp\\Downloads\\audiopkl.pkl\", 'rb')\n",
    "data=pickle.load(newFile)\n",
    "newFile.close()"
   ]
  },
  {
   "cell_type": "code",
   "execution_count": 172,
   "id": "898869ba",
   "metadata": {},
   "outputs": [],
   "source": [
    "OpFile3=open(r\"E:\\Downloads\\AudioFiles_mfcc.pkl\", 'rb')\n",
    "newMfcc=pickle.load(OpFile3)\n",
    "OpFile3.close()"
   ]
  },
  {
   "cell_type": "markdown",
   "id": "84799875",
   "metadata": {},
   "source": [
    "## Hashing"
   ]
  },
  {
   "cell_type": "code",
   "execution_count": 173,
   "id": "8e6302fd",
   "metadata": {},
   "outputs": [],
   "source": [
    "hashfunc1=[]\n",
    "temp=[]\n",
    "for i in range(0,len(data)):\n",
    "    for j in range(0,len(data[i])):\n",
    "        b=np.mean(data[i][j])\n",
    "        a=(3*b+1)%23\n",
    "        temp.append(a)\n",
    "    hashfunc1.append(temp)\n",
    "    temp=[]"
   ]
  },
  {
   "cell_type": "code",
   "execution_count": 174,
   "id": "a5f9b44f",
   "metadata": {},
   "outputs": [],
   "source": [
    "hashfunc2=[]\n",
    "temp=[]\n",
    "for i in range(0,len(data)):\n",
    "    for j in range(0,len(data[i])):\n",
    "        b=np.mean(data[i][j])\n",
    "        a=(2*b+2)%23\n",
    "        temp.append(a)\n",
    "    hashfunc2.append(temp)\n",
    "    temp=[]"
   ]
  },
  {
   "cell_type": "code",
   "execution_count": 175,
   "id": "afb7faaa",
   "metadata": {},
   "outputs": [],
   "source": [
    "hashfunc3=[]\n",
    "temp=[]\n",
    "for i in range(0,len(data)):\n",
    "    for j in range(0,len(data[i])):\n",
    "        b=np.mean(data[i][j])\n",
    "        a=(2*b+3)%23\n",
    "        temp.append(a)\n",
    "    hashfunc3.append(temp)\n",
    "    temp=[]"
   ]
  },
  {
   "cell_type": "code",
   "execution_count": 176,
   "id": "24af91a0",
   "metadata": {},
   "outputs": [],
   "source": [
    "hashfunc4=[]\n",
    "temp=[]\n",
    "for i in range(0,len(data)):\n",
    "    for j in range(0,len(data[i])):\n",
    "        b=np.mean(data[i][j])\n",
    "        a=(2*b+4)%23\n",
    "        temp.append(a)\n",
    "    hashfunc4.append(temp)\n",
    "    temp=[]"
   ]
  },
  {
   "cell_type": "code",
   "execution_count": 177,
   "id": "1165e6af",
   "metadata": {},
   "outputs": [],
   "source": [
    "hashfunc5=[]\n",
    "temp=[]\n",
    "for i in range(0,len(data)):\n",
    "    for j in range(0,len(data[i])):\n",
    "        b=np.mean(data[i][j])\n",
    "        a=(3*b+5)%23\n",
    "        temp.append(a)\n",
    "    hashfunc5.append(temp)\n",
    "    temp=[]"
   ]
  },
  {
   "cell_type": "code",
   "execution_count": 178,
   "id": "6188619e",
   "metadata": {},
   "outputs": [],
   "source": [
    "hashfunc6=[]\n",
    "temp=[]\n",
    "for i in range(0,len(data)):\n",
    "    for j in range(0,len(data[i])):\n",
    "        b=np.mean(data[i][j])\n",
    "        a=(2*b+6)%23\n",
    "        temp.append(a)\n",
    "    hashfunc6.append(temp)\n",
    "    temp=[]"
   ]
  },
  {
   "cell_type": "code",
   "execution_count": 179,
   "id": "e2f9d507",
   "metadata": {},
   "outputs": [],
   "source": [
    "hashfunc7=[]\n",
    "temp=[]\n",
    "for i in range(0,len(data)):\n",
    "    for j in range(0,len(data[i])):\n",
    "        b=np.mean(data[i][j])\n",
    "        a=(2*b+7)%23\n",
    "        temp.append(a)\n",
    "    hashfunc7.append(temp)\n",
    "    temp=[]"
   ]
  },
  {
   "cell_type": "code",
   "execution_count": 180,
   "id": "9b506ee4",
   "metadata": {},
   "outputs": [],
   "source": [
    "hashfunc8=[]\n",
    "temp=[]\n",
    "for i in range(0,len(data)):\n",
    "    for j in range(0,len(data[i])):\n",
    "        b=np.mean(data[i][j])\n",
    "        a=(3*b+8)%23\n",
    "        temp.append(a)\n",
    "    hashfunc8.append(temp)\n",
    "    temp=[]"
   ]
  },
  {
   "cell_type": "code",
   "execution_count": 181,
   "id": "11e08a86",
   "metadata": {},
   "outputs": [],
   "source": [
    "hashfunc9=[]\n",
    "temp=[]\n",
    "for i in range(0,len(data)):\n",
    "    for j in range(0,len(data[i])):\n",
    "        b=np.mean(data[i][j])\n",
    "        a=(2*b+9)%23\n",
    "        temp.append(a)\n",
    "    hashfunc9.append(temp)\n",
    "    temp=[]"
   ]
  },
  {
   "cell_type": "code",
   "execution_count": 182,
   "id": "93d45075",
   "metadata": {},
   "outputs": [],
   "source": [
    "hashfunc10=[]\n",
    "temp=[]\n",
    "for i in range(0,len(data)):\n",
    "    for j in range(0,len(data[i])):\n",
    "        b=np.mean(data[i][j])\n",
    "        a=(3*b+10)%23\n",
    "        temp.append(a)\n",
    "    hashfunc10.append(temp)\n",
    "    temp=[]"
   ]
  },
  {
   "cell_type": "markdown",
   "id": "d8465f32",
   "metadata": {},
   "source": [
    "## Conversions to 0 and 1 "
   ]
  },
  {
   "cell_type": "code",
   "execution_count": 183,
   "id": "5367a569",
   "metadata": {},
   "outputs": [],
   "source": [
    "def chng(hashfun):\n",
    "    newlist=[]\n",
    "    temp=[]\n",
    "    for i in range(0,len(hashfun)):\n",
    "        for j in range(0, len(hashfun[i])):\n",
    "            if (hashfun[i][j]*10)<100:\n",
    "                temp.append(1)\n",
    "            else:\n",
    "                temp.append(0)\n",
    "        newlist.append(temp)\n",
    "        temp=[]\n",
    "    return newlist"
   ]
  },
  {
   "cell_type": "code",
   "execution_count": 184,
   "id": "6368d175",
   "metadata": {},
   "outputs": [],
   "source": [
    "h1=chng(hashfunc1)\n",
    "h2=chng(hashfunc2)\n",
    "h3=chng(hashfunc3)\n",
    "h4=chng(hashfunc4)\n",
    "h5=chng(hashfunc5)\n",
    "h6=chng(hashfunc6)\n",
    "h7=chng(hashfunc7)\n",
    "h8=chng(hashfunc8)\n",
    "h9=chng(hashfunc9)\n",
    "h10=chng(hashfunc10)"
   ]
  },
  {
   "cell_type": "markdown",
   "id": "6e1c7a54",
   "metadata": {},
   "source": [
    "## Random Permutation "
   ]
  },
  {
   "cell_type": "code",
   "execution_count": 185,
   "id": "b3eed465",
   "metadata": {},
   "outputs": [],
   "source": [
    "ran1=np.random.permutation(20)\n",
    "ran2=np.random.permutation(20)\n",
    "ran3=np.random.permutation(20)\n",
    "ran4=np.random.permutation(20)\n",
    "ran5=np.random.permutation(20)\n",
    "ran6=np.random.permutation(20)\n",
    "ran7=np.random.permutation(20)\n",
    "ran8=np.random.permutation(20)\n",
    "ran9=np.random.permutation(20)\n",
    "ran10=np.random.permutation(20)"
   ]
  },
  {
   "cell_type": "markdown",
   "id": "9e4553ee",
   "metadata": {},
   "source": [
    "## Making Buckets "
   ]
  },
  {
   "cell_type": "code",
   "execution_count": 186,
   "id": "39d2fc3f",
   "metadata": {},
   "outputs": [],
   "source": [
    "def bucket(hashfun, per):\n",
    "    buc=[]\n",
    "    minbuc=[]\n",
    "    for i in range(0,len(hashfun)):\n",
    "        for j in range(0,len(hashfun[i])):    \n",
    "            if hashfun[i][j]==1:\n",
    "                buc.append(per[j])\n",
    "        a=min(buc)\n",
    "        minbuc.append(a)\n",
    "        buc=[]\n",
    "    return minbuc"
   ]
  },
  {
   "cell_type": "code",
   "execution_count": 187,
   "id": "39b9e834",
   "metadata": {},
   "outputs": [],
   "source": [
    "b1=bucket(h1,ran1)\n",
    "b2=bucket(h2,ran2)\n",
    "b3=bucket(h3,ran3)\n",
    "b4=bucket(h4,ran4)\n",
    "b5=bucket(h5,ran5)\n",
    "b6=bucket(h6,ran6)\n",
    "b7=bucket(h7,ran7)\n",
    "b8=bucket(h8,ran8)\n",
    "b9=bucket(h9,ran9)\n",
    "b10=bucket(h10,ran10)"
   ]
  },
  {
   "cell_type": "markdown",
   "id": "8d8425ce",
   "metadata": {},
   "source": [
    "## Partial Sums "
   ]
  },
  {
   "cell_type": "code",
   "execution_count": 188,
   "id": "ac660876",
   "metadata": {},
   "outputs": [],
   "source": [
    "temp=[]\n",
    "parsumlist=[]\n",
    "for i in range(0,len(b1)):\n",
    "    a=b1[i]+b2[i]+b3[i]+b4[i]+b5[i]\n",
    "    b=b6[i]+b7[i]+b8[i]+b9[i]+b10[i]\n",
    "    temp.append(a)\n",
    "    temp.append(b)\n",
    "    parsumlist.append(temp)\n",
    "    temp=[]"
   ]
  },
  {
   "cell_type": "code",
   "execution_count": 189,
   "id": "2aa7a91d",
   "metadata": {},
   "outputs": [],
   "source": [
    "audname=[]\n",
    "for i in newMfcc.index:\n",
    "    audname.append(i)"
   ]
  },
  {
   "cell_type": "code",
   "execution_count": 190,
   "id": "e941b32e",
   "metadata": {},
   "outputs": [],
   "source": [
    "audict1=defaultdict(list)\n",
    "audict2=defaultdict(list)"
   ]
  },
  {
   "cell_type": "code",
   "execution_count": 191,
   "id": "bd317063",
   "metadata": {},
   "outputs": [],
   "source": [
    "for i in range(0,len(parsumlist)):\n",
    "    audict1[parsumlist[i][0]].append(audname[i])\n",
    "    audict2[parsumlist[i][1]].append(audname[i])"
   ]
  },
  {
   "cell_type": "code",
   "execution_count": 192,
   "id": "18004faf",
   "metadata": {},
   "outputs": [],
   "source": [
    "audmfc=defaultdict(list)\n",
    "for i in range(0,len(parsumlist)):\n",
    "    audmfc[audname[i]].append(parsumlist[i])"
   ]
  },
  {
   "cell_type": "markdown",
   "id": "4e7e858a",
   "metadata": {},
   "source": [
    "## Conversion to DATA FRAME "
   ]
  },
  {
   "cell_type": "code",
   "execution_count": 139,
   "id": "1c282064",
   "metadata": {},
   "outputs": [],
   "source": [
    "df1 = pd.DataFrame(dict([ (k,pd.Series(v)) for k,v in audict1.items() ]))\n",
    "df2 = pd.DataFrame(dict([ (k,pd.Series(v)) for k,v in audict2.items() ]))"
   ]
  },
  {
   "cell_type": "markdown",
   "id": "5ea9357c",
   "metadata": {},
   "source": [
    "# Code for One Audio For Flask App"
   ]
  },
  {
   "cell_type": "code",
   "execution_count": 833,
   "id": "6c60e246",
   "metadata": {},
   "outputs": [],
   "source": [
    "newdata=data[1]"
   ]
  },
  {
   "cell_type": "markdown",
   "id": "e015f5a4",
   "metadata": {},
   "source": [
    "## Hash Function "
   ]
  },
  {
   "cell_type": "code",
   "execution_count": 834,
   "id": "60a0864a",
   "metadata": {},
   "outputs": [],
   "source": [
    "def hashing(mf,x,y):\n",
    "    hashfunc=[]\n",
    "    for i in range(0,len(mf)):\n",
    "        b=np.mean(mf[i])\n",
    "        a=(x*b+y)%23\n",
    "        hashfunc.append(a)\n",
    "    return hashfunc"
   ]
  },
  {
   "cell_type": "code",
   "execution_count": 835,
   "id": "e518fdbc",
   "metadata": {},
   "outputs": [],
   "source": [
    "a1=hashing(newdata,3,1)\n",
    "a2=hashing(newdata,2,2)\n",
    "a3=hashing(newdata,2,3)\n",
    "a4=hashing(newdata,2,4)\n",
    "a5=hashing(newdata,3,5)\n",
    "a6=hashing(newdata,2,6)\n",
    "a7=hashing(newdata,2,7)\n",
    "a8=hashing(newdata,3,8)\n",
    "a9=hashing(newdata,2,9)\n",
    "a10=hashing(newdata,3,10)"
   ]
  },
  {
   "cell_type": "markdown",
   "id": "8266c6ad",
   "metadata": {},
   "source": [
    "## Conversion to 0 and 1 "
   ]
  },
  {
   "cell_type": "code",
   "execution_count": 836,
   "id": "377e3e23",
   "metadata": {},
   "outputs": [],
   "source": [
    "def onecng(hsh):\n",
    "    temp=[]\n",
    "    for i in range(0,len(hsh)):\n",
    "        if(hsh[i]*10)<100:\n",
    "            temp.append(1)\n",
    "        else:\n",
    "            temp.append(0)\n",
    "    return temp"
   ]
  },
  {
   "cell_type": "code",
   "execution_count": 837,
   "id": "cf192d0c",
   "metadata": {},
   "outputs": [],
   "source": [
    "o1=onecng(a1)\n",
    "o2=onecng(a2)\n",
    "o3=onecng(a3)\n",
    "o4=onecng(a4)\n",
    "o5=onecng(a5)\n",
    "o6=onecng(a6)\n",
    "o7=onecng(a7)\n",
    "o8=onecng(a8)\n",
    "o9=onecng(a9)\n",
    "o10=onecng(a10)"
   ]
  },
  {
   "cell_type": "markdown",
   "id": "b0a772ff",
   "metadata": {},
   "source": [
    "## Making Bucket "
   ]
  },
  {
   "cell_type": "code",
   "execution_count": 838,
   "id": "c3ccaf80",
   "metadata": {},
   "outputs": [],
   "source": [
    "nFile=open(r\"C:\\Users\\hp\\Downloads\\permspkl.pkl\", 'rb')\n",
    "permss=pickle.load(nFile)\n",
    "newFile.close()"
   ]
  },
  {
   "cell_type": "code",
   "execution_count": 839,
   "id": "2ca4c6db",
   "metadata": {},
   "outputs": [],
   "source": [
    "def onebuc(hush, pers):\n",
    "    buc=[]\n",
    "    minbuc=[]\n",
    "    for i in range(0,len(hush)):   \n",
    "        if hush[i]==1:\n",
    "            buc.append(pers[i])\n",
    "    a=min(buc)\n",
    "    return a"
   ]
  },
  {
   "cell_type": "code",
   "execution_count": 840,
   "id": "4d33cfbb",
   "metadata": {},
   "outputs": [],
   "source": [
    "sb1=onebuc(o1,perms[0])\n",
    "sb2=onebuc(o2,perms[1])\n",
    "sb3=onebuc(o3,perms[2])\n",
    "sb4=onebuc(o4,perms[3])\n",
    "sb5=onebuc(o5,perms[4])\n",
    "sb6=onebuc(o6,perms[5])\n",
    "sb7=onebuc(o7,perms[6])\n",
    "sb8=onebuc(o8,perms[7])\n",
    "sb9=onebuc(o9,perms[8])\n",
    "sb10=onebuc(o10,perms[9])"
   ]
  },
  {
   "cell_type": "markdown",
   "id": "1364702a",
   "metadata": {},
   "source": [
    "## Partial Sums"
   ]
  },
  {
   "cell_type": "code",
   "execution_count": 841,
   "id": "b95f4522",
   "metadata": {},
   "outputs": [],
   "source": [
    "s1=sb1+sb2+sb3+sb4+sb5\n",
    "s2=sb6+sb7+sb8+sb9+sb10"
   ]
  },
  {
   "cell_type": "code",
   "execution_count": 842,
   "id": "3f2bf7b2",
   "metadata": {},
   "outputs": [],
   "source": [
    "blist=[sb1,sb2,sb3,sb4,sb5,sb6,sb7,sb8,sb9,sb10]"
   ]
  },
  {
   "cell_type": "code",
   "execution_count": 843,
   "id": "19f386d7",
   "metadata": {},
   "outputs": [],
   "source": [
    "df1=pd.read_csv(\"AudData1.csv\")\n",
    "df2=pd.read_csv(\"AudData2.csv\")"
   ]
  },
  {
   "cell_type": "markdown",
   "id": "658abe0b",
   "metadata": {},
   "source": [
    "## Checking Similarity on basis of partial sums "
   ]
  },
  {
   "cell_type": "code",
   "execution_count": 844,
   "id": "0c10bae0",
   "metadata": {},
   "outputs": [],
   "source": [
    "simlist1=[]\n",
    "simlist2=[]"
   ]
  },
  {
   "cell_type": "code",
   "execution_count": 845,
   "id": "af0526aa",
   "metadata": {},
   "outputs": [],
   "source": [
    "for i in df1[str(s1)]:\n",
    "    simlist1.append(i)\n",
    "    \n",
    "for i in df1[str(s2)]:\n",
    "    simlist2.append(i)"
   ]
  },
  {
   "cell_type": "code",
   "execution_count": 846,
   "id": "508b591e",
   "metadata": {},
   "outputs": [],
   "source": [
    "cleanedList1 = [x for x in simlist1 if str(x) != 'nan']\n",
    "cleanedList2 = [x for x in simlist2 if str(x) != 'nan']"
   ]
  },
  {
   "cell_type": "code",
   "execution_count": 847,
   "id": "4567cae7",
   "metadata": {},
   "outputs": [],
   "source": [
    "comp=[]\n",
    "for i in cleanedList1:\n",
    "    comp.append(i)\n",
    "\n",
    "for i in cleanedList2:\n",
    "    comp.append(i)"
   ]
  },
  {
   "cell_type": "markdown",
   "id": "8960fbdd",
   "metadata": {},
   "source": [
    "## Now checking similarity on basis of Bucket Data "
   ]
  },
  {
   "cell_type": "code",
   "execution_count": 848,
   "id": "6c1a7658",
   "metadata": {},
   "outputs": [],
   "source": [
    "df3=pd.read_csv(\"BucData.csv\")"
   ]
  },
  {
   "cell_type": "code",
   "execution_count": 849,
   "id": "fba798a8",
   "metadata": {},
   "outputs": [],
   "source": [
    "OpFile3=open(r\"E:\\Downloads\\AudioFiles_mfcc.pkl\", 'rb')\n",
    "newMfcc=pickle.load(OpFile3)\n",
    "OpFile3.close()"
   ]
  },
  {
   "cell_type": "code",
   "execution_count": 850,
   "id": "bde7c3b2",
   "metadata": {},
   "outputs": [],
   "source": [
    "names=[]\n",
    "for i in newMfcc.index:\n",
    "    names.append(i)"
   ]
  },
  {
   "cell_type": "code",
   "execution_count": 851,
   "id": "8727fad8",
   "metadata": {},
   "outputs": [],
   "source": [
    "tr={}\n",
    "count=0\n",
    "k=0\n",
    "for i in df3.columns:\n",
    "    for j in range(0,len(df3[i])):\n",
    "        if (df3[i].loc[j]==blist[j]).any():\n",
    "            count+=1\n",
    "    tr[names[k]]=count\n",
    "    count=0\n",
    "    k+=1"
   ]
  },
  {
   "cell_type": "code",
   "execution_count": 852,
   "id": "93791b2e",
   "metadata": {},
   "outputs": [],
   "source": [
    "Keymax = max(zip(tr.values(), tr.keys()))[1]\n",
    "Keymax2 = max(zip(tr.values(), tr.keys()))[0]"
   ]
  },
  {
   "cell_type": "code",
   "execution_count": 853,
   "id": "a8acf8a0",
   "metadata": {},
   "outputs": [],
   "source": [
    "Keymin = min(zip(tr.values(), tr.keys()))[1]\n",
    "Keymin2 = min(zip(tr.values(), tr.keys()))[0]"
   ]
  },
  {
   "cell_type": "code",
   "execution_count": 858,
   "id": "9e1bb7a6",
   "metadata": {},
   "outputs": [
    {
     "name": "stdout",
     "output_type": "stream",
     "text": [
      "001040.mp3 has jaccard similarity 1.0 to the given audio.\n",
      "001069.mp3 has jaccard similarity 0.0 to the given audio.\n"
     ]
    }
   ],
   "source": [
    "print(Keymax, \"has jaccard similarity\", Keymax2/10,\"to the given audio.\")\n",
    "print(Keymin, \"has jaccard similarity\", Keymin2/10,\"to the given audio.\")"
   ]
  },
  {
   "cell_type": "code",
   "execution_count": null,
   "id": "d5b28de8",
   "metadata": {},
   "outputs": [],
   "source": []
  },
  {
   "cell_type": "code",
   "execution_count": null,
   "id": "491a0da9",
   "metadata": {},
   "outputs": [],
   "source": []
  }
 ],
 "metadata": {
  "kernelspec": {
   "display_name": "Python 3 (ipykernel)",
   "language": "python",
   "name": "python3"
  },
  "language_info": {
   "codemirror_mode": {
    "name": "ipython",
    "version": 3
   },
   "file_extension": ".py",
   "mimetype": "text/x-python",
   "name": "python",
   "nbconvert_exporter": "python",
   "pygments_lexer": "ipython3",
   "version": "3.9.13"
  }
 },
 "nbformat": 4,
 "nbformat_minor": 5
}
